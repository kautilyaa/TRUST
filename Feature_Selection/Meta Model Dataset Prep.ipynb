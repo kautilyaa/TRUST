{
 "cells": [
  {
   "cell_type": "markdown",
   "metadata": {
    "application/vnd.databricks.v1+cell": {
     "cellMetadata": {},
     "inputWidgets": {},
     "nuid": "fd14d4c4-1d51-4abe-b0b6-297e64dd370f",
     "showTitle": false,
     "tableResultSettingsMap": {},
     "title": ""
    }
   },
   "source": [
    "The objective of this notebook is to prepare the final data set for the meta model training. This dataset is a fusion of all the baseline model residuals, predicted probs along with selected features from different categories"
   ]
  },
  {
   "cell_type": "code",
   "execution_count": 0,
   "metadata": {
    "application/vnd.databricks.v1+cell": {
     "cellMetadata": {
      "byteLimit": 2048000,
      "rowLimit": 10000
     },
     "inputWidgets": {},
     "nuid": "45255268-57ae-4a0b-b591-e18100d7ac00",
     "showTitle": false,
     "tableResultSettingsMap": {},
     "title": ""
    }
   },
   "outputs": [],
   "source": [
    "appl_train = spark.table('hive_metastore.default.application_train')\n",
    "\n",
    "#vintage features\n",
    "vin_appl_train = spark.table('hive_metastore.default.vin_finalized_application_train')\n",
    "vin_prev = spark.table('hive_metastore.default.ay_vin_prev_pred')\n",
    "vin_bur = spark.table('hive_metastore.default.ay_vin_bur_pred')\n",
    "\n",
    "#amtf features\n",
    "amtf_pos_cash = spark.table('hive_metastore.default.amtf_pos_cash_final_prediction_data2')\n",
    "amtf_cc = spark.table('hive_metastore.default.amtf_cc_final_pred_df')\n",
    "\n",
    "#deq features\n",
    "deq_df = spark.table('hive_metastore.default.bu_final_prediction_data2')"
   ]
  },
  {
   "cell_type": "code",
   "execution_count": 0,
   "metadata": {
    "application/vnd.databricks.v1+cell": {
     "cellMetadata": {
      "byteLimit": 2048000,
      "rowLimit": 10000
     },
     "inputWidgets": {},
     "nuid": "8c2b7e9b-05c3-47b2-ac0e-635a9d9e41b1",
     "showTitle": false,
     "tableResultSettingsMap": {},
     "title": ""
    }
   },
   "outputs": [],
   "source": [
    "print(\"appl_train count:\", appl_train.count())\n",
    "print(\"vin_appl_train count:\", vin_appl_train.count())\n",
    "print(\"vin_prev count:\", vin_prev.count())\n",
    "print(\"vin_bur count:\", vin_bur.count())\n",
    "print(\"amtf_pos_cash count:\", amtf_pos_cash.count())\n",
    "print(\"amtf_cc count:\", amtf_cc.count())\n",
    "print(\"deq_df count:\", deq_df.count())"
   ]
  },
  {
   "cell_type": "code",
   "execution_count": 0,
   "metadata": {
    "application/vnd.databricks.v1+cell": {
     "cellMetadata": {
      "byteLimit": 2048000,
      "rowLimit": 10000
     },
     "inputWidgets": {},
     "nuid": "635ae4a5-66f9-4772-9120-f79fc640b8e1",
     "showTitle": false,
     "tableResultSettingsMap": {},
     "title": ""
    }
   },
   "outputs": [],
   "source": [
    "#Dropping TARGET column from vin_appl_train\n",
    "vin_appl_train = vin_appl_train.drop(\"TARGET\")\n",
    "vin_appl_train.limit(2).display()"
   ]
  },
  {
   "cell_type": "code",
   "execution_count": 0,
   "metadata": {
    "application/vnd.databricks.v1+cell": {
     "cellMetadata": {
      "byteLimit": 2048000,
      "rowLimit": 10000
     },
     "inputWidgets": {},
     "nuid": "d430b2da-901d-4352-b918-3174763cbb2c",
     "showTitle": false,
     "tableResultSettingsMap": {},
     "title": ""
    }
   },
   "outputs": [],
   "source": [
    "amtf_cc = amtf_cc.withColumnRenamed(\"Prediction_Probability_pos_cash\", \"Prediction_Prob_cc\")\n"
   ]
  },
  {
   "cell_type": "code",
   "execution_count": 0,
   "metadata": {
    "application/vnd.databricks.v1+cell": {
     "cellMetadata": {
      "byteLimit": 2048000,
      "rowLimit": 10000
     },
     "inputWidgets": {},
     "nuid": "689e4f4f-5904-4b7a-ae37-a6d0df27e5aa",
     "showTitle": false,
     "tableResultSettingsMap": {},
     "title": ""
    }
   },
   "outputs": [],
   "source": [
    "deq_df.limit(2).display()"
   ]
  },
  {
   "cell_type": "code",
   "execution_count": 0,
   "metadata": {
    "application/vnd.databricks.v1+cell": {
     "cellMetadata": {
      "byteLimit": 2048000,
      "rowLimit": 10000
     },
     "inputWidgets": {},
     "nuid": "941de1f9-e9e3-4459-9cfe-67d9abdf0349",
     "showTitle": false,
     "tableResultSettingsMap": {},
     "title": ""
    }
   },
   "outputs": [],
   "source": [
    "# Perform left outer joins\n",
    "result_df = appl_train.join(vin_appl_train, on=\"SK_ID_CURR\", how=\"left\") \\\n",
    "                      .join(vin_prev, on=\"SK_ID_CURR\", how=\"left\") \\\n",
    "                      .join(vin_bur, on=\"SK_ID_CURR\", how=\"left\") \\\n",
    "                      .join(amtf_pos_cash, on=\"SK_ID_CURR\", how=\"left\") \\\n",
    "                      .join(amtf_cc, on=\"SK_ID_CURR\", how=\"left\") \\\n",
    "                      .join(deq_df, on=\"SK_ID_CURR\", how=\"left\")\n",
    "\n",
    "# Display the final result\n",
    "result_df.limit(2).display()"
   ]
  },
  {
   "cell_type": "code",
   "execution_count": 0,
   "metadata": {
    "application/vnd.databricks.v1+cell": {
     "cellMetadata": {
      "byteLimit": 2048000,
      "rowLimit": 10000
     },
     "inputWidgets": {},
     "nuid": "91299576-a39a-408b-80ac-eea7e12ecc0a",
     "showTitle": false,
     "tableResultSettingsMap": {},
     "title": ""
    }
   },
   "outputs": [],
   "source": [
    "result_df.createOrReplaceTempView(\"result_df\")"
   ]
  },
  {
   "cell_type": "code",
   "execution_count": 0,
   "metadata": {
    "application/vnd.databricks.v1+cell": {
     "cellMetadata": {
      "byteLimit": 2048000,
      "implicitDf": true,
      "rowLimit": 10000
     },
     "inputWidgets": {},
     "nuid": "d63e6080-9e00-4471-85b4-e182709b5df8",
     "showTitle": false,
     "tableResultSettingsMap": {},
     "title": ""
    }
   },
   "outputs": [],
   "source": [
    "%sql\n",
    "select count(distinct SK_ID_CURR) as cust_count, count(*) as row_count from result_df"
   ]
  },
  {
   "cell_type": "code",
   "execution_count": 0,
   "metadata": {
    "application/vnd.databricks.v1+cell": {
     "cellMetadata": {
      "byteLimit": 2048000,
      "rowLimit": 10000
     },
     "inputWidgets": {},
     "nuid": "cc74f3da-3c05-4937-b61d-21f1aa89c54f",
     "showTitle": false,
     "tableResultSettingsMap": {},
     "title": ""
    }
   },
   "outputs": [],
   "source": [
    "%python\n",
    "# Print the number of rows\n",
    "num_rows = result_df.count()\n",
    "print(f\"Number of rows: {num_rows}\")\n",
    "\n",
    "# Print the number of columns\n",
    "num_columns = len(result_df.columns)\n",
    "print(f\"Number of columns: {num_columns}\")"
   ]
  },
  {
   "cell_type": "code",
   "execution_count": 0,
   "metadata": {
    "application/vnd.databricks.v1+cell": {
     "cellMetadata": {
      "byteLimit": 2048000,
      "implicitDf": true,
      "rowLimit": 10000
     },
     "inputWidgets": {},
     "nuid": "57ed90e6-7a49-4c7c-87ab-1cf0c974cd89",
     "showTitle": false,
     "tableResultSettingsMap": {},
     "title": ""
    }
   },
   "outputs": [],
   "source": [
    "%sql\n",
    "drop table if exists default.ultimate_final_dataset;\n",
    "create table default.ultimate_final_dataset as\n",
    "select\n",
    "  *\n",
    "from\n",
    "  result_df;"
   ]
  },
  {
   "cell_type": "code",
   "execution_count": 0,
   "metadata": {
    "application/vnd.databricks.v1+cell": {
     "cellMetadata": {
      "byteLimit": 2048000,
      "rowLimit": 10000
     },
     "inputWidgets": {},
     "nuid": "2b9b658c-0648-49ad-b37d-74fea6adf644",
     "showTitle": false,
     "tableResultSettingsMap": {},
     "title": ""
    }
   },
   "outputs": [],
   "source": [
    "display(result_df)"
   ]
  }
 ],
 "metadata": {
  "application/vnd.databricks.v1+notebook": {
   "computePreferences": null,
   "dashboards": [],
   "environmentMetadata": {
    "base_environment": "",
    "client": "1"
   },
   "language": "python",
   "notebookMetadata": {
    "mostRecentlyExecutedCommandWithImplicitDF": {
     "commandId": 1634878437175015,
     "dataframes": [
      "_sqldf"
     ]
    },
    "pythonIndentUnit": 4
   },
   "notebookName": "Meta Model Dataset Prep",
   "widgets": {}
  },
  "language_info": {
   "name": "python"
  }
 },
 "nbformat": 4,
 "nbformat_minor": 0
}

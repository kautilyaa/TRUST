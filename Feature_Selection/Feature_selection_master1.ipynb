{
 "cells": [
  {
   "cell_type": "code",
   "execution_count": 0,
   "metadata": {
    "application/vnd.databricks.v1+cell": {
     "cellMetadata": {
      "byteLimit": 2048000,
      "rowLimit": 10000
     },
     "inputWidgets": {},
     "nuid": "c81a5b50-e438-49d2-be1a-c7ebbd02bbe5",
     "showTitle": false,
     "tableResultSettingsMap": {},
     "title": ""
    }
   },
   "outputs": [],
   "source": [
    "import pandas as pd\n",
    "import numpy as np\n",
    "from sklearn.feature_selection import RFE\n",
    "from sklearn.linear_model import Lasso\n",
    "from sklearn.ensemble import RandomForestClassifier\n",
    "from sklearn.model_selection import train_test_split\n",
    "from sklearn.preprocessing import StandardScaler\n",
    "from sklearn.linear_model import LogisticRegression\n",
    "import warnings\n",
    "from sklearn.preprocessing import LabelEncoder"
   ]
  },
  {
   "cell_type": "code",
   "execution_count": 0,
   "metadata": {
    "application/vnd.databricks.v1+cell": {
     "cellMetadata": {
      "byteLimit": 2048000,
      "rowLimit": 10000
     },
     "inputWidgets": {},
     "nuid": "2e199f9c-7b56-47e5-ba4f-cc2a2a3f25bc",
     "showTitle": false,
     "tableResultSettingsMap": {},
     "title": ""
    }
   },
   "outputs": [],
   "source": [
    "# Ignore SettingWithCopyWarning\n",
    "# Ignore all warnings\n",
    "warnings.filterwarnings(\"ignore\")"
   ]
  },
  {
   "cell_type": "code",
   "execution_count": 0,
   "metadata": {
    "application/vnd.databricks.v1+cell": {
     "cellMetadata": {
      "byteLimit": 2048000,
      "rowLimit": 10000
     },
     "inputWidgets": {},
     "nuid": "1b2e9023-e067-4497-a917-6196a9539097",
     "showTitle": false,
     "tableResultSettingsMap": {},
     "title": ""
    }
   },
   "outputs": [],
   "source": [
    "pd.set_option('display.max_rows', 1000)\n",
    "pd.set_option('display.max_columns', 1000)"
   ]
  },
  {
   "cell_type": "code",
   "execution_count": 0,
   "metadata": {
    "application/vnd.databricks.v1+cell": {
     "cellMetadata": {
      "byteLimit": 2048000,
      "rowLimit": 10000
     },
     "inputWidgets": {},
     "nuid": "4630efa2-f3c9-4166-9bff-88ff0f3356c5",
     "showTitle": false,
     "tableResultSettingsMap": {},
     "title": ""
    }
   },
   "outputs": [],
   "source": [
    "\n",
    "def rfe_feature_importance(df, target, estimator, n_features):\n",
    "    \"\"\"\n",
    "    Calculates feature importance using Recursive Feature Elimination (RFE).\n",
    "    \"\"\"\n",
    "    X = df.drop(columns=[target])\n",
    "    y = df[target]\n",
    "    rfe = RFE(estimator=estimator, n_features_to_select=n_features)\n",
    "    rfe.fit(X, y)\n",
    "    importance = pd.DataFrame({\n",
    "        'Feature': X.columns,\n",
    "        'Importance': rfe.ranking_\n",
    "    }).sort_values(by='Importance', ascending=True)\n",
    "    return importance.reset_index(drop=True)\n",
    "\n",
    "def lasso_feature_importance(df, target, alpha=0.01):\n",
    "    \"\"\"\n",
    "    Calculates feature importance using Lasso regularization.\n",
    "    \"\"\"\n",
    "    X = df.drop(columns=[target])\n",
    "    y = df[target]\n",
    "    scaler = StandardScaler()\n",
    "    X_scaled = scaler.fit_transform(X)  # Standardize for Lasso\n",
    "    lasso = Lasso(alpha=alpha)\n",
    "    lasso.fit(X_scaled, y)\n",
    "    importance = pd.DataFrame({\n",
    "        'Feature': X.columns,\n",
    "        'Importance': np.abs(lasso.coef_)\n",
    "    }).sort_values(by='Importance', ascending=False)\n",
    "    return importance.reset_index(drop=True)\n",
    "\n",
    "def randomforest_feature_importance(df, target, n_estimators=100, random_state=42):\n",
    "    \"\"\"\n",
    "    Calculates feature importance using Random Forest.\n",
    "    \"\"\"\n",
    "    X = df.drop(columns=[target])\n",
    "    y = df[target]\n",
    "    rf = RandomForestClassifier(n_estimators=n_estimators, random_state=random_state)\n",
    "    rf.fit(X, y)\n",
    "    importance = pd.DataFrame({\n",
    "        'Feature': X.columns,\n",
    "        'Importance': rf.feature_importances_\n",
    "    }).sort_values(by='Importance', ascending=False)\n",
    "    return importance.reset_index(drop=True)\n",
    "\n"
   ]
  },
  {
   "cell_type": "code",
   "execution_count": 0,
   "metadata": {
    "application/vnd.databricks.v1+cell": {
     "cellMetadata": {
      "byteLimit": 2048000,
      "rowLimit": 10000
     },
     "inputWidgets": {},
     "nuid": "d261879a-434e-40fd-9e06-397520fe39f7",
     "showTitle": false,
     "tableResultSettingsMap": {},
     "title": ""
    }
   },
   "outputs": [],
   "source": [
    "#Loading the datasets\n",
    "\n",
    "ay_burr_agg = spark.table(\"hive_metastore.default.ay_aggr_bur_target\")\n",
    "ay_burr_agg.createOrReplaceTempView(\"ay_burr_agg\")\n",
    "deq_data = ay_burr_agg.toPandas()\n",
    "\n",
    "\n"
   ]
  },
  {
   "cell_type": "code",
   "execution_count": 0,
   "metadata": {
    "application/vnd.databricks.v1+cell": {
     "cellMetadata": {
      "byteLimit": 2048000,
      "rowLimit": 10000
     },
     "inputWidgets": {},
     "nuid": "19970229-720c-4cfb-b208-40ddc3551f0d",
     "showTitle": false,
     "tableResultSettingsMap": {},
     "title": ""
    }
   },
   "outputs": [],
   "source": [
    "deq_data.head()"
   ]
  },
  {
   "cell_type": "code",
   "execution_count": 0,
   "metadata": {
    "application/vnd.databricks.v1+cell": {
     "cellMetadata": {
      "byteLimit": 2048000,
      "rowLimit": 10000
     },
     "inputWidgets": {},
     "nuid": "047d935f-c2cc-4245-ae7d-1e827d09a3b9",
     "showTitle": false,
     "tableResultSettingsMap": {},
     "title": ""
    }
   },
   "outputs": [],
   "source": [
    "deq_data.shape"
   ]
  },
  {
   "cell_type": "code",
   "execution_count": 0,
   "metadata": {
    "application/vnd.databricks.v1+cell": {
     "cellMetadata": {
      "byteLimit": 2048000,
      "rowLimit": 10000
     },
     "inputWidgets": {},
     "nuid": "ccd7f122-ca00-4ea9-93f2-55253f36de61",
     "showTitle": false,
     "tableResultSettingsMap": {},
     "title": ""
    }
   },
   "outputs": [],
   "source": [
    "deq_data.isnull().sum()"
   ]
  },
  {
   "cell_type": "code",
   "execution_count": 0,
   "metadata": {
    "application/vnd.databricks.v1+cell": {
     "cellMetadata": {
      "byteLimit": 2048000,
      "rowLimit": 10000
     },
     "inputWidgets": {},
     "nuid": "ddb5c479-1c5c-4b43-9e0d-07d15b236b44",
     "showTitle": false,
     "tableResultSettingsMap": {},
     "title": ""
    }
   },
   "outputs": [],
   "source": [
    "# Calculate fill rate for each column\n",
    "fill_rate = deq_data.notnull().mean() * 100\n",
    "\n",
    "# Display the fill rate as a DataFrame\n",
    "fill_rate_df = fill_rate.reset_index()\n",
    "fill_rate_df.columns = ['Column', 'Fill Rate (%)']\n",
    "print(fill_rate_df)"
   ]
  },
  {
   "cell_type": "code",
   "execution_count": 0,
   "metadata": {
    "application/vnd.databricks.v1+cell": {
     "cellMetadata": {
      "byteLimit": 2048000,
      "rowLimit": 10000
     },
     "inputWidgets": {},
     "nuid": "14fb49aa-6cc3-4c9b-be6c-21db7852f8ab",
     "showTitle": false,
     "tableResultSettingsMap": {},
     "title": ""
    }
   },
   "outputs": [],
   "source": [
    "\n",
    "# Calculate fill rate\n",
    "fill_rate = deq_data.notnull().mean() * 100\n",
    "\n",
    "# Filter and keep only columns with fill rate >= 50%\n",
    "data_1 = deq_data.loc[:, fill_rate >= 50]\n"
   ]
  },
  {
   "cell_type": "code",
   "execution_count": 0,
   "metadata": {
    "application/vnd.databricks.v1+cell": {
     "cellMetadata": {
      "byteLimit": 2048000,
      "rowLimit": 10000
     },
     "inputWidgets": {},
     "nuid": "ecee172b-ff52-4bc5-9d9a-7f2190ca1e16",
     "showTitle": false,
     "tableResultSettingsMap": {},
     "title": ""
    }
   },
   "outputs": [],
   "source": [
    "%python\n",
    "# Drop columns starting with 'vin_credit_utilization_'\n",
    "columns_to_drop = [col for col in data_1.columns if col.startswith('vin_credit_utilization_')]\n",
    "data_1 = data_1.drop(columns=columns_to_drop)"
   ]
  },
  {
   "cell_type": "code",
   "execution_count": 0,
   "metadata": {
    "application/vnd.databricks.v1+cell": {
     "cellMetadata": {
      "byteLimit": 2048000,
      "rowLimit": 10000
     },
     "inputWidgets": {},
     "nuid": "515ad5ce-19d4-4c44-800f-a37970a38cbc",
     "showTitle": false,
     "tableResultSettingsMap": {},
     "title": ""
    }
   },
   "outputs": [],
   "source": [
    "data_1.head()"
   ]
  },
  {
   "cell_type": "code",
   "execution_count": 0,
   "metadata": {
    "application/vnd.databricks.v1+cell": {
     "cellMetadata": {
      "byteLimit": 2048000,
      "rowLimit": 10000
     },
     "inputWidgets": {},
     "nuid": "1badc454-27d8-4ca2-b863-d6aee4ccd80b",
     "showTitle": false,
     "tableResultSettingsMap": {},
     "title": ""
    }
   },
   "outputs": [],
   "source": [
    "# data_1.drop(columns=[\"NAME_CONTRACT_TYPE\"], inplace=True)"
   ]
  },
  {
   "cell_type": "code",
   "execution_count": 0,
   "metadata": {
    "application/vnd.databricks.v1+cell": {
     "cellMetadata": {
      "byteLimit": 2048000,
      "rowLimit": 10000
     },
     "inputWidgets": {},
     "nuid": "0f86bad2-7eb3-4f51-887f-d85551369c7d",
     "showTitle": false,
     "tableResultSettingsMap": {},
     "title": ""
    }
   },
   "outputs": [],
   "source": [
    "# # Function to get all categorical variables\n",
    "# def get_categorical_variables(df):\n",
    "#     return df.select_dtypes(include=['object', 'category']).columns.tolist()\n",
    "\n",
    "# categorical_vars = get_categorical_variables(data_1)\n",
    "# print(\"Categorical Variables:\", categorical_vars)"
   ]
  },
  {
   "cell_type": "code",
   "execution_count": 0,
   "metadata": {
    "application/vnd.databricks.v1+cell": {
     "cellMetadata": {
      "byteLimit": 2048000,
      "rowLimit": 10000
     },
     "inputWidgets": {},
     "nuid": "ba5d167a-2940-4c11-9a16-dbfbb33c19ce",
     "showTitle": false,
     "tableResultSettingsMap": {},
     "title": ""
    }
   },
   "outputs": [],
   "source": [
    "# data_1['CODE_GENDER'] = data_1['CODE_GENDER'].map({'M': 1, 'F': 0})\n",
    "# data_1['FLAG_OWN_CAR'] = data_1['FLAG_OWN_CAR'].map({'N': 0, 'Y': 1})\n",
    "# data_1['FLAG_OWN_REALTY'] = data_1['FLAG_OWN_REALTY'].map({'N': 0, 'Y': 1})"
   ]
  },
  {
   "cell_type": "code",
   "execution_count": 0,
   "metadata": {
    "application/vnd.databricks.v1+cell": {
     "cellMetadata": {
      "byteLimit": 2048000,
      "rowLimit": 10000
     },
     "inputWidgets": {},
     "nuid": "cb337ce9-5b95-4fd3-b9b3-5bc360f627af",
     "showTitle": false,
     "tableResultSettingsMap": {},
     "title": ""
    }
   },
   "outputs": [],
   "source": [
    "# label_encoder = LabelEncoder()\n",
    "\n",
    "# # Apply LabelEncoder to all columns\n",
    "# data_2 = data_1.apply(lambda col: label_encoder.fit_transform(col) if col.dtypes == 'object' else col)"
   ]
  },
  {
   "cell_type": "code",
   "execution_count": 0,
   "metadata": {
    "application/vnd.databricks.v1+cell": {
     "cellMetadata": {
      "byteLimit": 2048000,
      "rowLimit": 10000
     },
     "inputWidgets": {},
     "nuid": "2fde5577-73dc-482b-a29c-cbead10a4d2b",
     "showTitle": false,
     "tableResultSettingsMap": {},
     "title": ""
    }
   },
   "outputs": [],
   "source": [
    "# #drop columns where code_gender is null\n",
    "# # Drop rows where CODE_GENDER is null\n",
    "# data_2 = data_2.dropna(subset=['CODE_GENDER'])"
   ]
  },
  {
   "cell_type": "code",
   "execution_count": 0,
   "metadata": {
    "application/vnd.databricks.v1+cell": {
     "cellMetadata": {
      "byteLimit": 2048000,
      "rowLimit": 10000
     },
     "inputWidgets": {},
     "nuid": "9b9d7aa7-f6ce-4ef8-9a44-8529d435a8b2",
     "showTitle": false,
     "tableResultSettingsMap": {},
     "title": ""
    }
   },
   "outputs": [],
   "source": [
    "app_train = spark.table(\"hive_metastore.default.application_train\")\n",
    "app_train_df = app_train.toPandas()"
   ]
  },
  {
   "cell_type": "code",
   "execution_count": 0,
   "metadata": {
    "application/vnd.databricks.v1+cell": {
     "cellMetadata": {
      "byteLimit": 2048000,
      "rowLimit": 10000
     },
     "inputWidgets": {},
     "nuid": "e5d96a67-c564-41af-bf3a-1fbebf2c6733",
     "showTitle": false,
     "tableResultSettingsMap": {},
     "title": ""
    }
   },
   "outputs": [],
   "source": [
    "type(app_train_df)"
   ]
  },
  {
   "cell_type": "code",
   "execution_count": 0,
   "metadata": {
    "application/vnd.databricks.v1+cell": {
     "cellMetadata": {
      "byteLimit": 2048000,
      "rowLimit": 10000
     },
     "inputWidgets": {},
     "nuid": "8c021c1b-23b4-455f-a8eb-95aac467b755",
     "showTitle": false,
     "tableResultSettingsMap": {},
     "title": ""
    }
   },
   "outputs": [],
   "source": [
    "#inner join and take only target \n",
    "data_1 = data_1.merge(app_train_df[['SK_ID_CURR','TARGET']], on='SK_ID_CURR', how='inner')"
   ]
  },
  {
   "cell_type": "code",
   "execution_count": 0,
   "metadata": {
    "application/vnd.databricks.v1+cell": {
     "cellMetadata": {
      "byteLimit": 2048000,
      "rowLimit": 10000
     },
     "inputWidgets": {},
     "nuid": "d5bdad16-7b33-44f4-bdc6-1feb0f71cc60",
     "showTitle": false,
     "tableResultSettingsMap": {},
     "title": ""
    }
   },
   "outputs": [],
   "source": [
    "data_2 = data_1.drop(columns=['SK_ID_CURR','residual_bur','pred_proba_bur'])"
   ]
  },
  {
   "cell_type": "code",
   "execution_count": 0,
   "metadata": {
    "application/vnd.databricks.v1+cell": {
     "cellMetadata": {
      "byteLimit": 2048000,
      "rowLimit": 10000
     },
     "inputWidgets": {},
     "nuid": "a34d5bda-0895-4d51-859b-1b4ff62468c1",
     "showTitle": false,
     "tableResultSettingsMap": {},
     "title": ""
    }
   },
   "outputs": [],
   "source": [
    "# Replace nulls with a placeholder \n",
    "\n",
    "data_cleaned = data_2.copy()\n",
    "placeholder_value = -10e10+1\n",
    "data_cleaned = data_cleaned.fillna(placeholder_value)"
   ]
  },
  {
   "cell_type": "code",
   "execution_count": 0,
   "metadata": {
    "application/vnd.databricks.v1+cell": {
     "cellMetadata": {
      "byteLimit": 2048000,
      "rowLimit": 10000
     },
     "inputWidgets": {},
     "nuid": "15174a38-859e-4ee6-99ba-3f474e1bf1ef",
     "showTitle": false,
     "tableResultSettingsMap": {},
     "title": ""
    }
   },
   "outputs": [],
   "source": [
    "data_cleaned.isnull().sum()"
   ]
  },
  {
   "cell_type": "code",
   "execution_count": 0,
   "metadata": {
    "application/vnd.databricks.v1+cell": {
     "cellMetadata": {
      "byteLimit": 2048000,
      "rowLimit": 10000
     },
     "inputWidgets": {},
     "nuid": "99983f64-1a4b-4635-a288-4d385c1a280d",
     "showTitle": false,
     "tableResultSettingsMap": {},
     "title": ""
    }
   },
   "outputs": [],
   "source": [
    "data_cleaned.head()"
   ]
  },
  {
   "cell_type": "code",
   "execution_count": 0,
   "metadata": {
    "application/vnd.databricks.v1+cell": {
     "cellMetadata": {
      "byteLimit": 2048000,
      "rowLimit": 10000
     },
     "inputWidgets": {},
     "nuid": "8d438e4a-effe-4f81-a298-c72b7622b213",
     "showTitle": false,
     "tableResultSettingsMap": {},
     "title": ""
    }
   },
   "outputs": [],
   "source": [
    "# Assume `df` is your DataFrame and `target` is the column with target values\n",
    "target_column = 'TARGET'  # Replace with the name of your target column\n",
    "sample_size = 30000\n",
    "\n",
    "# Calculate the fraction of rows needed\n",
    "fraction = sample_size / len(data_cleaned)\n",
    "\n",
    "# Perform stratified sampling\n",
    "_, df_sample = train_test_split(\n",
    "    data_cleaned, \n",
    "    test_size=fraction, \n",
    "    stratify=data_cleaned[target_column], \n",
    "    random_state=42  # Set seed for reproducibility\n",
    ")"
   ]
  },
  {
   "cell_type": "code",
   "execution_count": 0,
   "metadata": {
    "application/vnd.databricks.v1+cell": {
     "cellMetadata": {
      "byteLimit": 2048000,
      "rowLimit": 10000
     },
     "inputWidgets": {},
     "nuid": "d4df01ae-e9c8-4e1d-80c2-a9b8d5e0a871",
     "showTitle": false,
     "tableResultSettingsMap": {},
     "title": ""
    }
   },
   "outputs": [],
   "source": [
    "df_sample.shape"
   ]
  },
  {
   "cell_type": "code",
   "execution_count": 0,
   "metadata": {
    "application/vnd.databricks.v1+cell": {
     "cellMetadata": {
      "byteLimit": 2048000,
      "rowLimit": 10000
     },
     "inputWidgets": {},
     "nuid": "41b622fe-73ef-4428-b10a-62abc87f1c52",
     "showTitle": false,
     "tableResultSettingsMap": {},
     "title": ""
    }
   },
   "outputs": [],
   "source": [
    "\n",
    "# RFE\n",
    "print(\"RFE Feature Importance:\")\n",
    "rfe_result = rfe_feature_importance(df_sample, target='TARGET', estimator=LogisticRegression(), n_features=5)\n",
    "print(rfe_result)\n",
    "\n",
    "# Lasso\n",
    "print(\"\\nLasso Feature Importance:\")\n",
    "lasso_result = lasso_feature_importance(df_sample, target='TARGET', alpha=0.01)\n",
    "print(lasso_result)\n",
    "\n",
    "# Random Forest\n",
    "print(\"\\nRandom Forest Feature Importance:\")\n",
    "rf_result = randomforest_feature_importance(df_sample, target='TARGET')\n",
    "print(rf_result)"
   ]
  },
  {
   "cell_type": "markdown",
   "metadata": {
    "application/vnd.databricks.v1+cell": {
     "cellMetadata": {},
     "inputWidgets": {},
     "nuid": "c71cfc95-fc7c-4f6f-bed4-446b76275c5c",
     "showTitle": false,
     "tableResultSettingsMap": {},
     "title": ""
    }
   },
   "source": [
    "- vin_total_overdue_amount_last_12_months_mean\n",
    "- vin_days_since_first_loan_taken_max_sum\n",
    "- vin_num_active_loans_sum\n",
    "- vin_days_since_credit_update_min_max\n",
    "\n",
    "\n",
    "\n",
    "\n"
   ]
  },
  {
   "cell_type": "code",
   "execution_count": 0,
   "metadata": {
    "application/vnd.databricks.v1+cell": {
     "cellMetadata": {
      "byteLimit": 2048000,
      "rowLimit": 10000
     },
     "inputWidgets": {},
     "nuid": "ec823a88-1427-48dd-9dd7-e58abd60653a",
     "showTitle": false,
     "tableResultSettingsMap": {},
     "title": ""
    }
   },
   "outputs": [],
   "source": [
    "selected_columns = [\n",
    "    'SK_ID_CURR',\n",
    "    'residual_bur',\n",
    "    'pred_proba_bur',\n",
    "    'vin_total_overdue_amount_last_12_months_mean',\n",
    "    'vin_days_since_first_loan_taken_max_sum',\n",
    "    'vin_num_active_loans_sum',\n",
    "    'vin_days_since_credit_update_min_max'\n",
    "]\n",
    "\n",
    "# Create a new DataFrame with the selected columns\n",
    "final_ay_bur_vintage = deq_data[selected_columns]\n",
    "\n",
    "# Display the new DataFrame\n",
    "display(final_ay_bur_vintage)"
   ]
  },
  {
   "cell_type": "code",
   "execution_count": 0,
   "metadata": {
    "application/vnd.databricks.v1+cell": {
     "cellMetadata": {
      "byteLimit": 2048000,
      "rowLimit": 10000
     },
     "inputWidgets": {},
     "nuid": "f3c1507c-8f62-4073-a2b0-0dd82ba98dcd",
     "showTitle": false,
     "tableResultSettingsMap": {},
     "title": ""
    }
   },
   "outputs": [],
   "source": [
    "pyspark_df = spark.createDataFrame(final_ay_bur_vintage)"
   ]
  },
  {
   "cell_type": "code",
   "execution_count": 0,
   "metadata": {
    "application/vnd.databricks.v1+cell": {
     "cellMetadata": {
      "byteLimit": 2048000,
      "rowLimit": 10000
     },
     "inputWidgets": {},
     "nuid": "f147a4a2-c9c2-4837-8005-edce57e86b6c",
     "showTitle": false,
     "tableResultSettingsMap": {},
     "title": ""
    }
   },
   "outputs": [],
   "source": [
    "pyspark_df.createOrReplaceTempView(\"pyspark_df\")"
   ]
  },
  {
   "cell_type": "markdown",
   "metadata": {
    "application/vnd.databricks.v1+cell": {
     "cellMetadata": {},
     "inputWidgets": {},
     "nuid": "567ee3a5-2adb-433e-a553-d697c91b2e47",
     "showTitle": false,
     "tableResultSettingsMap": {},
     "title": ""
    }
   },
   "source": [
    "ay_prev_agg = spark.table(\"hive_metastore.default.ay_aggr_prev_target\")"
   ]
  },
  {
   "cell_type": "code",
   "execution_count": 0,
   "metadata": {
    "application/vnd.databricks.v1+cell": {
     "cellMetadata": {
      "byteLimit": 2048000,
      "rowLimit": 10000
     },
     "inputWidgets": {},
     "nuid": "2f4bcfa8-996c-462c-b156-821fb2b24463",
     "showTitle": false,
     "tableResultSettingsMap": {},
     "title": ""
    }
   },
   "outputs": [],
   "source": [
    "pyspark_df.count()"
   ]
  },
  {
   "cell_type": "code",
   "execution_count": 0,
   "metadata": {
    "application/vnd.databricks.v1+cell": {
     "cellMetadata": {
      "byteLimit": 2048000,
      "rowLimit": 10000
     },
     "inputWidgets": {},
     "nuid": "c3c01444-f941-4f91-b954-819898830511",
     "showTitle": false,
     "tableResultSettingsMap": {},
     "title": ""
    }
   },
   "outputs": [],
   "source": [
    "%python\n",
    "# Replace spaces with underscores in all column names\n",
    "for col in pyspark_df.columns:\n",
    "    new_col = col.replace(\" \", \"_\")\n",
    "    pyspark_df = pyspark_df.withColumnRenamed(col, new_col)\n",
    "\n",
    "# Display the DataFrame to verify the changes\n",
    "display(pyspark_df)"
   ]
  },
  {
   "cell_type": "code",
   "execution_count": 0,
   "metadata": {
    "application/vnd.databricks.v1+cell": {
     "cellMetadata": {
      "byteLimit": 2048000,
      "rowLimit": 10000
     },
     "inputWidgets": {},
     "nuid": "68d1f13b-d02c-4a68-8ddf-2f7b52208ebc",
     "showTitle": false,
     "tableResultSettingsMap": {},
     "title": ""
    }
   },
   "outputs": [],
   "source": [
    "pyspark_df.createOrReplaceTempView(\"pyspark_df\")"
   ]
  },
  {
   "cell_type": "code",
   "execution_count": 0,
   "metadata": {
    "application/vnd.databricks.v1+cell": {
     "cellMetadata": {
      "byteLimit": 2048000,
      "implicitDf": true,
      "rowLimit": 10000
     },
     "inputWidgets": {},
     "nuid": "0d40650b-cd49-4ec6-99c6-3b0cfb3f9dde",
     "showTitle": false,
     "tableResultSettingsMap": {},
     "title": ""
    }
   },
   "outputs": [],
   "source": [
    "%sql\n",
    "\n",
    "create table default.ay_vin_bur_pred as\n",
    "select\n",
    "  *\n",
    "from\n",
    "  pyspark_df;"
   ]
  },
  {
   "cell_type": "code",
   "execution_count": 0,
   "metadata": {
    "application/vnd.databricks.v1+cell": {
     "cellMetadata": {},
     "inputWidgets": {},
     "nuid": "55fa0597-6ca5-4d2c-85fa-5b7b7ec44d3b",
     "showTitle": false,
     "tableResultSettingsMap": {},
     "title": ""
    }
   },
   "outputs": [],
   "source": []
  }
 ],
 "metadata": {
  "application/vnd.databricks.v1+notebook": {
   "computePreferences": null,
   "dashboards": [],
   "environmentMetadata": {
    "base_environment": "",
    "client": "1"
   },
   "language": "python",
   "notebookMetadata": {
    "mostRecentlyExecutedCommandWithImplicitDF": {
     "commandId": 376946451165967,
     "dataframes": [
      "_sqldf"
     ]
    },
    "pythonIndentUnit": 4
   },
   "notebookName": "Feature_selection_master1",
   "widgets": {}
  },
  "language_info": {
   "name": "python"
  }
 },
 "nbformat": 4,
 "nbformat_minor": 0
}

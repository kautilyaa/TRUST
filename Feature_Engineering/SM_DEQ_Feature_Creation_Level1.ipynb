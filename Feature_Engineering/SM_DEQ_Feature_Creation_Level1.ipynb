{
 "cells": [
  {
   "cell_type": "code",
   "execution_count": 0,
   "metadata": {
    "application/vnd.databricks.v1+cell": {
     "cellMetadata": {
      "byteLimit": 2048000,
      "rowLimit": 10000
     },
     "inputWidgets": {},
     "nuid": "bb59485b-8b78-422f-be79-168672c4a44e",
     "showTitle": false,
     "tableResultSettingsMap": {},
     "title": ""
    }
   },
   "outputs": [],
   "source": [
    "from pyspark.sql import functions as F"
   ]
  },
  {
   "cell_type": "code",
   "execution_count": 0,
   "metadata": {
    "application/vnd.databricks.v1+cell": {
     "cellMetadata": {
      "byteLimit": 2048000,
      "rowLimit": 10000
     },
     "inputWidgets": {},
     "nuid": "548f2413-fbbc-44cb-bdcc-b387488be7a9",
     "showTitle": false,
     "tableResultSettingsMap": {},
     "title": ""
    }
   },
   "outputs": [],
   "source": [
    "# load the base data \n",
    "bu_base_1 = spark.sql(\"select * from default.bureau_base\")\n",
    "bu_base_1.createOrReplaceTempView(\"bu_base_1\")"
   ]
  },
  {
   "cell_type": "code",
   "execution_count": 0,
   "metadata": {
    "application/vnd.databricks.v1+cell": {
     "cellMetadata": {
      "byteLimit": 2048000,
      "rowLimit": 10000
     },
     "inputWidgets": {},
     "nuid": "3e2ab813-7646-4447-af8e-1054d9aed9d0",
     "showTitle": false,
     "tableResultSettingsMap": {},
     "title": ""
    }
   },
   "outputs": [],
   "source": [
    "bu_base_1.limit(2).display()"
   ]
  },
  {
   "cell_type": "code",
   "execution_count": 0,
   "metadata": {
    "application/vnd.databricks.v1+cell": {
     "cellMetadata": {
      "byteLimit": 2048000,
      "rowLimit": 10000
     },
     "inputWidgets": {},
     "nuid": "b5fbaef5-ee97-4304-859a-a3717e993eaa",
     "showTitle": true,
     "tableResultSettingsMap": {},
     "title": "Low level Variable creation"
    }
   },
   "outputs": [],
   "source": [
    "# Create the 'ENDDATE_DIFF' column by subtracting 'DAYS_CREDIT_ENDDATE' from 'DAYS_ENDDATE_FACT'\n",
    "bu_base_1 = bu_base_1.withColumn(\"ENDDATE_DIFF\", F.col(\"DAYS_ENDDATE_FACT\") - F.col(\"DAYS_CREDIT_ENDDATE\"))\n",
    "# Create the 'DAYS_CREDIT_PLAN' column by subtracting 'DAYS_CREDIT' from 'DAYS_CREDIT_ENDDATE'\n",
    "bu_base_1 = bu_base_1.withColumn(\"DAYS_CREDIT_PLAN\", F.col(\"DAYS_CREDIT_ENDDATE\") - F.col(\"DAYS_CREDIT\"))\n",
    "\n",
    "# Calculate mean amount of credit by CREDIT_TYPE\n",
    "mean_amt_credit = bu_base_1.groupBy(\"CREDIT_TYPE\").agg(\n",
    "    F.mean(\"AMT_CREDIT_SUM\").alias(\"MEAN_AMT_CREDIT_BY_CREDIT_TYPE\")\n",
    ")\n",
    "\n",
    "# Join back with the main DataFrame\n",
    "bu_base_1 = bu_base_1.join(mean_amt_credit, on=\"CREDIT_TYPE\", how=\"left\")\n",
    "\n",
    "# Calculate AMT_CREDIT_SUM_RATIO\n",
    "bu_base_1 = bu_base_1.withColumn(\n",
    "    \"AMT_CREDIT_SUM_RATIO\",\n",
    "    F.col(\"AMT_CREDIT_SUM\") / F.col(\"MEAN_AMT_CREDIT_BY_CREDIT_TYPE\")\n",
    ")\n",
    "\n",
    "\n",
    "# Calculate AMT_CREDIT_DEBT_PERC\n",
    "bu_base_1 = bu_base_1.withColumn(\n",
    "    \"AMT_CREDIT_DEBT_PERC\",\n",
    "    F.col(\"AMT_CREDIT_SUM_DEBT\") / F.col(\"AMT_CREDIT_SUM\")\n",
    ")\n",
    "\n",
    "# Calculate AMT_CREDIT_DEBT_DIFF\n",
    "bu_base_1 = bu_base_1.withColumn(\n",
    "    \"AMT_CREDIT_DEBT_DIFF\",\n",
    "    F.col(\"AMT_CREDIT_SUM_DEBT\") - F.col(\"AMT_CREDIT_SUM\")\n",
    ")\n",
    "\n",
    "# Calculate AMT_CREDIT_ANNUITY_PERC\n",
    "bu_base_1 = bu_base_1.withColumn(\n",
    "    \"AMT_CREDIT_ANNUITY_PERC\",\n",
    "    F.col(\"AMT_ANNUITY\") / F.col(\"AMT_CREDIT_SUM\")\n",
    ")\n"
   ]
  },
  {
   "cell_type": "code",
   "execution_count": 0,
   "metadata": {
    "application/vnd.databricks.v1+cell": {
     "cellMetadata": {
      "byteLimit": 2048000,
      "rowLimit": 10000
     },
     "inputWidgets": {},
     "nuid": "6ceecdf0-d117-46b1-8e5b-0931a64a8689",
     "showTitle": false,
     "tableResultSettingsMap": {},
     "title": ""
    }
   },
   "outputs": [],
   "source": [
    "# Define Aggregations for Bureau DataFrame\n",
    "agg_funcs = {\n",
    "    'DAYS_CREDIT': ['count', 'mean'],\n",
    "    'CREDIT_DAY_OVERDUE': ['mean', 'sum'],\n",
    "    'DAYS_CREDIT_ENDDATE': ['mean'],\n",
    "    'DAYS_ENDDATE_FACT': ['mean'],\n",
    "    'AMT_CREDIT_MAX_OVERDUE': ['mean', 'sum'],\n",
    "    'CNT_CREDIT_PROLONG': ['mean', 'sum'],\n",
    "    'AMT_CREDIT_SUM': ['mean', 'sum'],\n",
    "    'AMT_CREDIT_SUM_DEBT': ['mean', 'sum'],\n",
    "    'AMT_CREDIT_SUM_LIMIT': ['mean', 'sum'],\n",
    "    'AMT_CREDIT_SUM_OVERDUE': ['mean', 'sum'],\n",
    "    'CREDIT_TYPE': ['countDistinct'],  # Spark equivalent of nunique\n",
    "    'DAYS_CREDIT_UPDATE': ['mean'],\n",
    "    'AMT_ANNUITY': ['mean', 'sum'],\n",
    "    'ENDDATE_DIFF': ['mean'],\n",
    "    'AMT_CREDIT_SUM_RATIO': ['mean', 'max'],\n",
    "    'DAYS_CREDIT_PLAN': ['mean', 'sum'],\n",
    "    'AMT_CREDIT_DEBT_PERC': ['mean', 'min', 'max'],\n",
    "    'AMT_CREDIT_DEBT_DIFF': ['mean', 'sum']\n",
    "}\n"
   ]
  },
  {
   "cell_type": "code",
   "execution_count": 0,
   "metadata": {
    "application/vnd.databricks.v1+cell": {
     "cellMetadata": {
      "byteLimit": 2048000,
      "rowLimit": 10000
     },
     "inputWidgets": {},
     "nuid": "20d33e6e-6eb0-4970-a479-6f8745ab470f",
     "showTitle": false,
     "tableResultSettingsMap": {},
     "title": ""
    }
   },
   "outputs": [],
   "source": [
    "def perform_aggregation(df, agg_funcs, prefix):\n",
    "            agg_exprs = []\n",
    "            for col_name, funcs in agg_funcs.items():\n",
    "                for func in funcs:\n",
    "                    if func == 'countDistinct':\n",
    "                        agg_exprs.append(F.countDistinct(col_name).alias(f\"{prefix}{col_name}_countDistinct\"))\n",
    "                    else:\n",
    "                        agg_exprs.append(getattr(F, func)(col_name).alias(f\"{prefix}{col_name}_{func}\"))\n",
    "            return df.groupBy(\"SK_ID_CURR\").agg(*agg_exprs)"
   ]
  },
  {
   "cell_type": "code",
   "execution_count": 0,
   "metadata": {
    "application/vnd.databricks.v1+cell": {
     "cellMetadata": {
      "byteLimit": 2048000,
      "rowLimit": 10000
     },
     "inputWidgets": {},
     "nuid": "a42ec4ab-9ae3-4274-98dd-293a88eb8f71",
     "showTitle": false,
     "tableResultSettingsMap": {},
     "title": ""
    }
   },
   "outputs": [],
   "source": [
    "# Perform Aggregations\n",
    "bu_base_2 = perform_aggregation(bu_base_1, agg_funcs, \"b_\")"
   ]
  },
  {
   "cell_type": "code",
   "execution_count": 0,
   "metadata": {
    "application/vnd.databricks.v1+cell": {
     "cellMetadata": {
      "byteLimit": 2048000,
      "rowLimit": 10000
     },
     "inputWidgets": {},
     "nuid": "e6615a17-7d56-466f-b096-b4e113992046",
     "showTitle": false,
     "tableResultSettingsMap": {},
     "title": ""
    }
   },
   "outputs": [],
   "source": [
    "bu_base_2.limit(2).display()"
   ]
  },
  {
   "cell_type": "code",
   "execution_count": 0,
   "metadata": {
    "application/vnd.databricks.v1+cell": {
     "cellMetadata": {
      "byteLimit": 2048000,
      "rowLimit": 10000
     },
     "inputWidgets": {},
     "nuid": "9339341d-4290-47d5-ab96-aeb7afae7249",
     "showTitle": false,
     "tableResultSettingsMap": {},
     "title": ""
    }
   },
   "outputs": [],
   "source": [
    "bu_base_2.printSchema()"
   ]
  },
  {
   "cell_type": "code",
   "execution_count": 0,
   "metadata": {
    "application/vnd.databricks.v1+cell": {
     "cellMetadata": {
      "byteLimit": 2048000,
      "rowLimit": 10000
     },
     "inputWidgets": {},
     "nuid": "3a887bd2-131c-4c49-917c-d4da547af80a",
     "showTitle": false,
     "tableResultSettingsMap": {},
     "title": ""
    }
   },
   "outputs": [],
   "source": [
    "filters = {\n",
    "            \"CREDIT_ACTIVE == 'Active'\": \"b_active_\",\n",
    "            \"CREDIT_ACTIVE == 'Closed'\": \"b_closed_\",\n",
    "            \"CREDIT_TYPE == 'Consumer credit'\": \"b_consumer_\",\n",
    "            \"CREDIT_TYPE == 'Credit card'\": \"b_credit_\",\n",
    "            \"CREDIT_TYPE == 'Car loan'\": \"b_car_\",\n",
    "            \"CREDIT_TYPE == 'Mortgage'\": \"b_mortage_\",\n",
    "            \"CREDIT_TYPE == 'Microloan'\": \"b_micro_\",\n",
    "            \"DAYS_CREDIT >= -720\": \"b_720_\",\n",
    "            \"DAYS_CREDIT >= -365\": \"b_365_\"\n",
    "        }"
   ]
  },
  {
   "cell_type": "code",
   "execution_count": 0,
   "metadata": {
    "application/vnd.databricks.v1+cell": {
     "cellMetadata": {
      "byteLimit": 2048000,
      "rowLimit": 10000
     },
     "inputWidgets": {},
     "nuid": "6631942f-1b21-4c74-8ccb-40ef2b72cbf9",
     "showTitle": false,
     "tableResultSettingsMap": {},
     "title": ""
    }
   },
   "outputs": [],
   "source": [
    "for filter_expr, prefix in filters.items():\n",
    "    filtered_df = bu_base_1.filter(filter_expr)\n",
    "    filtered_agg = perform_aggregation(filtered_df, agg_funcs, prefix)\n",
    "    bu_base_2 = bu_base_2.join(filtered_agg, on=\"SK_ID_CURR\", how=\"left\")"
   ]
  },
  {
   "cell_type": "code",
   "execution_count": 0,
   "metadata": {
    "application/vnd.databricks.v1+cell": {
     "cellMetadata": {
      "byteLimit": 2048000,
      "rowLimit": 10000
     },
     "inputWidgets": {},
     "nuid": "907309b2-88a9-48e3-b2d4-87eeef412d12",
     "showTitle": false,
     "tableResultSettingsMap": {},
     "title": ""
    }
   },
   "outputs": [],
   "source": [
    "bu_base_2.limit(2).display()"
   ]
  },
  {
   "cell_type": "code",
   "execution_count": 0,
   "metadata": {
    "application/vnd.databricks.v1+cell": {
     "cellMetadata": {
      "byteLimit": 2048000,
      "rowLimit": 10000
     },
     "inputWidgets": {},
     "nuid": "c550e657-9f47-482f-bbe4-d741920454d3",
     "showTitle": false,
     "tableResultSettingsMap": {},
     "title": ""
    }
   },
   "outputs": [],
   "source": [
    "bu_base_2.printSchema()"
   ]
  },
  {
   "cell_type": "code",
   "execution_count": 0,
   "metadata": {
    "application/vnd.databricks.v1+cell": {
     "cellMetadata": {
      "byteLimit": 2048000,
      "rowLimit": 10000
     },
     "inputWidgets": {},
     "nuid": "e3949c00-d5f3-45ac-b027-6d02e82020e7",
     "showTitle": false,
     "tableResultSettingsMap": {},
     "title": ""
    }
   },
   "outputs": [],
   "source": [
    "bu_base_2.count()\n",
    "bu_base_2.createOrReplaceTempView(\"bu_base_2\")"
   ]
  },
  {
   "cell_type": "code",
   "execution_count": 0,
   "metadata": {
    "application/vnd.databricks.v1+cell": {
     "cellMetadata": {
      "byteLimit": 2048000,
      "implicitDf": true,
      "rowLimit": 10000
     },
     "inputWidgets": {},
     "nuid": "e1136f6d-77c5-4213-a0f8-f43ebf6477f8",
     "showTitle": false,
     "tableResultSettingsMap": {},
     "title": ""
    }
   },
   "outputs": [],
   "source": [
    "%sql\n",
    "drop table if exists default.bu_features_level1_new;\n",
    "create table default.bu_features_level1_new as\n",
    "select\n",
    "  *\n",
    "from\n",
    "  bu_base_2;"
   ]
  },
  {
   "cell_type": "markdown",
   "metadata": {
    "application/vnd.databricks.v1+cell": {
     "cellMetadata": {},
     "inputWidgets": {},
     "nuid": "9fb37503-f3d2-4940-a336-2d88098c0530",
     "showTitle": false,
     "tableResultSettingsMap": {},
     "title": ""
    }
   },
   "source": [
    "## Final Merge of Level 1 and Level 2 Features "
   ]
  },
  {
   "cell_type": "code",
   "execution_count": 0,
   "metadata": {
    "application/vnd.databricks.v1+cell": {
     "cellMetadata": {
      "byteLimit": 2048000,
      "rowLimit": 10000
     },
     "inputWidgets": {},
     "nuid": "1459e8a6-bae7-4296-aa0e-0e87e7771106",
     "showTitle": false,
     "tableResultSettingsMap": {},
     "title": ""
    }
   },
   "outputs": [],
   "source": [
    "bu_features_level2 = spark.sql(\"select * from bu_features_level2\")"
   ]
  },
  {
   "cell_type": "code",
   "execution_count": 0,
   "metadata": {
    "application/vnd.databricks.v1+cell": {
     "cellMetadata": {
      "byteLimit": 2048000,
      "rowLimit": 10000
     },
     "inputWidgets": {},
     "nuid": "369c6236-43c1-4af8-a78c-b23a98c04ce5",
     "showTitle": false,
     "tableResultSettingsMap": {},
     "title": ""
    }
   },
   "outputs": [],
   "source": [
    "bu_features_level2.printSchema()"
   ]
  },
  {
   "cell_type": "code",
   "execution_count": 0,
   "metadata": {
    "application/vnd.databricks.v1+cell": {
     "cellMetadata": {
      "byteLimit": 2048000,
      "rowLimit": 10000
     },
     "inputWidgets": {},
     "nuid": "9671a854-7459-40b5-8b80-f54c4f070fc7",
     "showTitle": false,
     "tableResultSettingsMap": {},
     "title": ""
    }
   },
   "outputs": [],
   "source": [
    "bu_features_level2.count()"
   ]
  },
  {
   "cell_type": "code",
   "execution_count": 0,
   "metadata": {
    "application/vnd.databricks.v1+cell": {
     "cellMetadata": {
      "byteLimit": 2048000,
      "rowLimit": 10000
     },
     "inputWidgets": {},
     "nuid": "48056fed-c20c-4ea2-b5e3-093f6f513d9e",
     "showTitle": false,
     "tableResultSettingsMap": {},
     "title": ""
    }
   },
   "outputs": [],
   "source": [
    "# Final join \n",
    "bu_features_final2 = bu_base_2.join(bu_features_level2, on=\"SK_ID_CURR\", how=\"inner\")"
   ]
  },
  {
   "cell_type": "code",
   "execution_count": 0,
   "metadata": {
    "application/vnd.databricks.v1+cell": {
     "cellMetadata": {
      "byteLimit": 2048000,
      "rowLimit": 10000
     },
     "inputWidgets": {},
     "nuid": "fabb0c11-a3eb-4efc-803c-bcd015c98344",
     "showTitle": false,
     "tableResultSettingsMap": {},
     "title": ""
    }
   },
   "outputs": [],
   "source": [
    "bu_features_final2.printSchema()"
   ]
  },
  {
   "cell_type": "code",
   "execution_count": 0,
   "metadata": {
    "application/vnd.databricks.v1+cell": {
     "cellMetadata": {
      "byteLimit": 2048000,
      "rowLimit": 10000
     },
     "inputWidgets": {},
     "nuid": "19f985e4-a2bc-428c-a5d9-d4d47a714221",
     "showTitle": false,
     "tableResultSettingsMap": {},
     "title": ""
    }
   },
   "outputs": [],
   "source": [
    "bu_features_final2.limit(5).display()\n",
    "bu_features_final2.createOrReplaceTempView(\"bu_features_final2\")"
   ]
  },
  {
   "cell_type": "code",
   "execution_count": 0,
   "metadata": {
    "application/vnd.databricks.v1+cell": {
     "cellMetadata": {
      "byteLimit": 2048000,
      "implicitDf": true,
      "rowLimit": 10000
     },
     "inputWidgets": {},
     "nuid": "cf116e88-76f3-42c7-bb87-65b516846724",
     "showTitle": false,
     "tableResultSettingsMap": {},
     "title": ""
    }
   },
   "outputs": [],
   "source": [
    "%sql\n",
    "drop table if exists default.bu_features_final2;\n",
    "create table default.bu_features_final2 as\n",
    "select\n",
    "  *\n",
    "from\n",
    "  bu_features_final2;"
   ]
  }
 ],
 "metadata": {
  "application/vnd.databricks.v1+notebook": {
   "computePreferences": null,
   "dashboards": [],
   "environmentMetadata": {
    "base_environment": "",
    "client": "1"
   },
   "language": "python",
   "notebookMetadata": {
    "mostRecentlyExecutedCommandWithImplicitDF": {
     "commandId": 1304468822282189,
     "dataframes": [
      "_sqldf"
     ]
    },
    "pythonIndentUnit": 4
   },
   "notebookName": "SM_DEQ_Feature_Creation_Level1",
   "widgets": {}
  },
  "language_info": {
   "name": "python"
  }
 },
 "nbformat": 4,
 "nbformat_minor": 0
}
